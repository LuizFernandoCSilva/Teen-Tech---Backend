{
  "nbformat": 4,
  "nbformat_minor": 0,
  "metadata": {
    "colab": {
      "provenance": []
    },
    "kernelspec": {
      "name": "python3",
      "display_name": "Python 3"
    },
    "language_info": {
      "name": "python"
    }
  },
  "cells": [
    {
      "cell_type": "markdown",
      "source": [
        "# **TeenTech - Curso de Programação em Linguagem Python**\n",
        "\n",
        "**Coordenador:** André Bernardi\n",
        "\n",
        "**Alunos Participantes:** Enzo Kozonoe, Henry Matheus Parente Hagemann, Júlia Pivato de Oliveira, Lucas de Paula Souza, Luiz Fernando Costa Silva, Paulo Emílio Maia Cauwilla, Ryan Alves Mazzeu, Stevan Maciel Ribeiro de Souza e Vinicius Gomes de Araújo\n",
        "\n",
        "### **Quem nós somos?**\n",
        "Bem-vindos ao **Projeto TeenTech**! Criado e formado por estudantes do curso de Engenharia de Computação na UNIFEI. Somos uma iniciativa voltada para o desenvolvimento de habilidades em programação para jovens. Este projeto tem como objetivo introduzir os participantes ao mundo da programação com Python, fornecendo uma base sólida e prática para o desenvolvimento de soluções tecnológicas.\n",
        "\n",
        "### **Contato**\n",
        "**Email:** teentechunifei@gmail.com\n",
        "\n",
        "**Grupo do Whatsapp:** colocar o link do grupo do zap aqui  \n",
        "\n",
        "![teentech.png](data:image/png;base64,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)"
      ],
      "metadata": {
        "id": "Mz2ZOZT3P4bJ"
      }
    },
    {
      "cell_type": "markdown",
      "source": [
        "# Aula 6 - Estruturas repetição - Aprendendo a usar for"
      ],
      "metadata": {
        "id": "lsvIQr_lQKMC"
      }
    },
    {
      "cell_type": "markdown",
      "source": [
        "## O que é uma estrutura de repetição?\n",
        "Uma estrutura de repetição é um bloco de código que pode ser executado várias vezes, dependendo de uma condição. No caso do for, a repetição acontece para cada item de uma sequência, como uma lista ou intervalo de números."
      ],
      "metadata": {
        "id": "dTvK1EOjFhGZ"
      }
    },
    {
      "cell_type": "markdown",
      "source": [
        "## O que o laço for?\n",
        "O for é uma estrutura de repetição usada quando sabemos o número exato de vezes que queremos repetir um bloco de código. É muito útil quando trabalhamos com sequências, como listas, tuplas, ou até mesmo strings.\n",
        "\n",
        "Diferente do while, que repete enquanto uma condição for verdadeira, o for já sabe, desde o início, quantas vezes vai repetir. Vamos entender melhor com exemplos."
      ],
      "metadata": {
        "id": "B11fNXuQMpq7"
      }
    },
    {
      "cell_type": "markdown",
      "source": [
        "## Como funciona o for?\n",
        "Imagine que você quer imprimir os números de 1 a 5 na tela. Usando o for, você pode fazer isso de maneira bem simples:\n",
        "\n",
        "O **for** é uma palavra reservada em Python, ou seja, não deve ser usada para nada além da finalidade para a qual foi projetada: para criar estruturas de repetição (**loops**). Quando usamos o **for**, estamos dizendo ao programa para repetir um bloco de código por um número definido de vezes.\n",
        "\n",
        "O laço **for** é uma estrutura de repetição que permite iterar sobre uma sequência de valores, como uma lista, string, tupla, ou até mesmo um intervalo de números. Cada vez que o laço é executado, ele percorre um item da sequência, e você pode executar um conjunto de instruções para cada item.\n",
        "\n",
        "A sintaxe (estrutura de escrita) do for segue a seguinte ordenação para ser utilizada:\n",
        "\n",
        "    for variavel in sequencia:\n",
        "      bloco de código\n",
        "\n",
        "\n",
        "A palavra-chave **for** começa o laço, seguida de uma variável que assume os valores de cada item na sequência. A palavra in indica a sequência que será percorrida, e depois, o bloco de código indentado é executado para cada valor da sequência.\n",
        "\n",
        "\n"
      ],
      "metadata": {
        "id": "rsvbomXoMsoy"
      }
    },
    {
      "cell_type": "markdown",
      "source": [
        "## For com Range\n",
        "\n",
        "A função range() é uma das formas mais comuns de usar o laço for. Ela gera uma sequência de números, que você pode iterar.\n",
        "\n",
        "A sintaxe do range é a seguinte:\n",
        "\n",
        "    range(inicio, fim, passo)\n",
        "\n",
        "A função range() pode ser usada de três formas principais:\n",
        "\n",
        "* range(fim): Gera números de 0 até fim - 1.\n",
        "* range(inicio, fim): Gera números de inicio até fim - 1.\n",
        "* range(inicio, fim, passo): Gera números de inicio até fim - 1, pulando de acordo com o valor de passo.\n",
        "\n",
        "No exemplo abaixo iremos printar os números de 0 a 4.\n"
      ],
      "metadata": {
        "id": "5vtK0UQCBne3"
      }
    },
    {
      "cell_type": "code",
      "source": [
        "for i in range(5):\n",
        "    print(i)"
      ],
      "metadata": {
        "id": "dC47K2NruT6P"
      },
      "execution_count": null,
      "outputs": []
    },
    {
      "cell_type": "markdown",
      "source": [
        "No exemplo abaixo iremos usar um for com range personalizado com início em 1 e fim em 10 com passo 2. Ele printa os números de 1 a 9 pulando de 2 em 2."
      ],
      "metadata": {
        "id": "aytGyDeMqewo"
      }
    },
    {
      "cell_type": "code",
      "source": [
        "for i in range(1, 10, 2):\n",
        "    print(i)\n"
      ],
      "metadata": {
        "id": "L1whyhKgrRBC"
      },
      "execution_count": null,
      "outputs": []
    },
    {
      "cell_type": "markdown",
      "source": [
        "Neste outro exemplo, o código printa todos os números de 20 até 1 em ordem decrescente."
      ],
      "metadata": {
        "id": "LyjBm6OW83Hf"
      }
    },
    {
      "cell_type": "code",
      "source": [
        "for i in range(20, 0, -1):\n",
        "  print(i)"
      ],
      "metadata": {
        "id": "QYMNpppS82hq"
      },
      "execution_count": null,
      "outputs": []
    },
    {
      "cell_type": "markdown",
      "source": [
        "### Exercício A\n",
        "\n",
        "Faça um exercício que printa todos os números de 1 a 10 utilizando for"
      ],
      "metadata": {
        "id": "u1tEKEfhARGv"
      }
    },
    {
      "cell_type": "code",
      "source": [
        "# CONTINUE"
      ],
      "metadata": {
        "id": "7l03rARAT4Oc"
      },
      "execution_count": null,
      "outputs": []
    },
    {
      "cell_type": "markdown",
      "source": [
        "### Exercício B\n",
        "Faça um código que printa todos os números pares de 0 a 9, você não deve usar a estrutura condicional if ou o % (resto de divisão), apenas o for.\n",
        "\n",
        "Dica: 0 também é par, comece com **ele**"
      ],
      "metadata": {
        "id": "iSAfQhTvNwNR"
      }
    },
    {
      "cell_type": "code",
      "source": [
        "#CONTINUE"
      ],
      "metadata": {
        "id": "PPXO-h2tOSQr"
      },
      "execution_count": null,
      "outputs": []
    },
    {
      "cell_type": "markdown",
      "source": [
        "### Exercício C\n",
        "\n",
        "Faça um código que imprime todos os números de 10 até 1 em ordem decrescente"
      ],
      "metadata": {
        "id": "wyTHqQpgvgAO"
      }
    },
    {
      "cell_type": "code",
      "source": [
        "#CONTINUE"
      ],
      "metadata": {
        "id": "6jeap-bq9L1_"
      },
      "execution_count": null,
      "outputs": []
    },
    {
      "cell_type": "markdown",
      "source": [
        "## For com Strings\n",
        "Strings em Python também são sequências de caracteres, e podemos usar o for para iterar sobre cada caractere individualmente.\n",
        "\n",
        "Você pode usar o for para percorrer diretamente strings. Nesse caso, o laço irá passar por cada caractere da string, um por um. Isso é útil para analisar, transformar ou contar caracteres específicos.\n",
        "\n",
        "Isso é prático quando você quer manipular ou verificar cada caractere de uma string.\n",
        "\n",
        "Usos práticos:\n",
        "* Contar quantas vezes uma letra aparece na string.\n",
        "* Criar versões invertidas ou modificadas de uma string.\n",
        "* Identificar caracteres específicos como letras, números ou símbolos.\n",
        "\n",
        "Abaixo temos um exemplo no qual vamos printar cada letra da palavra dada, nesse caso nós não utilizamos o range :"
      ],
      "metadata": {
        "id": "vQXBiO21H2oe"
      }
    },
    {
      "cell_type": "code",
      "source": [
        "palavra = \"Python\"\n",
        "for letra in palavra:\n",
        "    print(letra)"
      ],
      "metadata": {
        "id": "y86q9HgMtQFh"
      },
      "execution_count": null,
      "outputs": []
    },
    {
      "cell_type": "markdown",
      "source": [
        "### Exercício C\n",
        "Crie uma variável chamada nome e atribua a ela seu nome, depois passe por ela printando caractere por caractere.\n",
        "\n",
        "Nesse exercício não precisamos do input, apenas declare a variável e atribua um valor a ela, exemplo:\n",
        "\n",
        "    nome = \"Júlia\""
      ],
      "metadata": {
        "id": "IpHtZrLhOeBX"
      }
    },
    {
      "cell_type": "code",
      "source": [
        "# CONTINUE"
      ],
      "metadata": {
        "id": "Lz2aU1WCOhbW"
      },
      "execution_count": null,
      "outputs": []
    },
    {
      "cell_type": "markdown",
      "source": [
        "##For com zip()\n",
        "O zip em Python é uma função muito útil que combina dois ou mais iteráveis (como strings, listas, ou tuplas) em pares. No contexto de duas strings, ele \"zipa\" cada caractere correspondente das strings.\n",
        "\n",
        "Nesse exemplo iremos percorrer suas string criadas e printar o zip de cada uma de suas duplas de caracteres."
      ],
      "metadata": {
        "id": "e9pyNnxBYeB6"
      }
    },
    {
      "cell_type": "code",
      "source": [
        "str1 = 'gato'\n",
        "str2 = 'cachorro'\n",
        "\n",
        "for item in zip(str1, str2):\n",
        "  print(item)"
      ],
      "metadata": {
        "id": "7IW_h0AZYmNJ"
      },
      "execution_count": null,
      "outputs": []
    },
    {
      "cell_type": "markdown",
      "source": [
        "Nesse exemplo, nós iremos apenas percorrer as duas strings ao mesmo tempo, mas separadamente, e printar suas letras separadamente também. Podemos perceber que o loop também acaba quando a menor palavra acaba."
      ],
      "metadata": {
        "id": "HqSRc_eOZApy"
      }
    },
    {
      "cell_type": "code",
      "source": [
        "str1 = 'gato'\n",
        "str2 = 'cachorro'\n",
        "\n",
        "for letra1, letra2 in zip(str1, str2):\n",
        "  print(letra1, ' ', letra2)"
      ],
      "metadata": {
        "id": "E_LF3iJ5YzhV"
      },
      "execution_count": null,
      "outputs": []
    },
    {
      "cell_type": "markdown",
      "source": [
        "### Exercício D\n",
        "\n",
        "Faça um código que itera sobre duas variáveis, str1 e str2, a str1 atribua seu nome, e a str2 atribua seu sobrenome. O for deve percorrê-las de modo a printar as letras até acabar a menor palavra, como no exemplo acima.\n",
        "\n",
        "    str1 = primeiro nome\n",
        "    str2 = sobrenome"
      ],
      "metadata": {
        "id": "OZw4VHu4ZlFd"
      }
    },
    {
      "cell_type": "code",
      "source": [
        "str1 = ''\n",
        "str2 = ''\n",
        "\n",
        "# CONTINUE"
      ],
      "metadata": {
        "id": "zkcnTHy5aGnR"
      },
      "execution_count": null,
      "outputs": []
    },
    {
      "cell_type": "markdown",
      "source": [
        "## For Aninhado\n",
        "\n",
        "O for aninhado acontece quando você coloca um laço for dentro de outro. Isso é bastante útil quando trabalhamos com estruturas como listas de listas, matrizes ou quando queremos repetir um processo dentro de cada iteração, veremos isso nas próximas aulas.\n",
        "\n",
        "No exemplo abaixo podemos ver um código que utiliza for aninhado para printar a tabuada do 1 ao 3."
      ],
      "metadata": {
        "id": "bnkfA2UIGWZ8"
      }
    },
    {
      "cell_type": "code",
      "source": [
        "for i in range(1,4):\n",
        "    for j in range(11):\n",
        "      resultado = i * j\n",
        "      print( i, '*', j, '=', resultado )"
      ],
      "metadata": {
        "id": "VVImZUWiGnKn"
      },
      "execution_count": null,
      "outputs": []
    },
    {
      "cell_type": "markdown",
      "source": [
        "### Exercício D\n",
        "\n",
        "Escreva um código que contenha 2 for aninhados, o for mais externo deve rodar 3 vezes e o mais interno deve rodar 3 vezes também. Printe a cada iteração o valor das duas variáveis, como no exercício acima."
      ],
      "metadata": {
        "id": "TKygBaAG_rhE"
      }
    },
    {
      "cell_type": "code",
      "source": [
        "# CONTINUE"
      ],
      "metadata": {
        "id": "CSszq6aEOi70"
      },
      "execution_count": null,
      "outputs": []
    },
    {
      "cell_type": "markdown",
      "source": [
        "## For _ in range\n",
        "\n",
        "O for _ in range() é uma variação comum do laço for em Python usada quando você quer repetir um bloco de código um determinado número de vezes, mas não se importa com o valor do contador da iteração. O _ é usado como uma convenção para indicar que o valor do contador não será utilizado dentro do laço.\n",
        "\n",
        "Você utiliza essa abordagem quando só quer a repetição de um bloco de código um número fixo de vezes, e não há necessidade de acessar o valor atual da iteração.\n",
        "\n",
        "O exemplo abaixo é um laço que imprime \"Olá, mundo!\" 5 vezes"
      ],
      "metadata": {
        "id": "c_nvb2awnJvk"
      }
    },
    {
      "cell_type": "code",
      "source": [
        "for _ in range(5):\n",
        "    print(\"Olá, mundo!\")"
      ],
      "metadata": {
        "id": "8a37eurTnWe5"
      },
      "execution_count": null,
      "outputs": []
    },
    {
      "cell_type": "markdown",
      "source": [
        "### Exercício E\n",
        "\n",
        "Faça um código que printa seu nome um número específico de vezes na tela, esse número específico de vezes é a sua idade."
      ],
      "metadata": {
        "id": "lc0uM73-nZ6D"
      }
    },
    {
      "cell_type": "code",
      "source": [
        "# CONTINUE"
      ],
      "metadata": {
        "id": "Hgtu5KYFnaOj"
      },
      "execution_count": null,
      "outputs": []
    },
    {
      "cell_type": "markdown",
      "source": [
        "## Prática\n",
        "\n",
        "Agora que já temos o entendimento necessário para utilizarmos essas estruturas de repetição, vamos para a prática!!"
      ],
      "metadata": {
        "id": "p4zOQfeNT_Us"
      }
    },
    {
      "cell_type": "markdown",
      "source": [
        "### Exercício 01\n",
        "Escreva um programa que use um laço for para imprimir os números de 0 a 9."
      ],
      "metadata": {
        "id": "_3sUpUBBUbr6"
      }
    },
    {
      "cell_type": "code",
      "source": [
        "#CONTINUE"
      ],
      "metadata": {
        "id": "qIrOXH2rUuwn"
      },
      "execution_count": null,
      "outputs": []
    },
    {
      "cell_type": "markdown",
      "source": [
        "### Exercício 02\n",
        "\n",
        "Crie um programa que soma todos os números de 10 a 19, ao final do loop for você deve printar penas o resultado."
      ],
      "metadata": {
        "id": "Xa6NgwNrUvCb"
      }
    },
    {
      "cell_type": "code",
      "source": [
        "resultado = 0\n",
        "\n",
        "# CONTINUE\n",
        "\n",
        "print(resultado)"
      ],
      "metadata": {
        "id": "OWEPP3V5U39d"
      },
      "execution_count": null,
      "outputs": []
    },
    {
      "cell_type": "markdown",
      "source": [
        "### Exercício 03\n",
        "\n",
        "Crie um programa que printa uma escada de asteriscos na tela, a altura pode ser decidida por você ao montar o código.\n"
      ],
      "metadata": {
        "id": "vJH6NqyqWeQt"
      }
    },
    {
      "cell_type": "code",
      "source": [
        "# CONTINUE"
      ],
      "metadata": {
        "id": "kDlhUiUxWd1F"
      },
      "execution_count": null,
      "outputs": []
    },
    {
      "cell_type": "markdown",
      "source": [
        "### Exercício 04\n",
        "\n",
        "Faça um código que imprime a tabuada de 1 a 5.\n",
        "\n",
        "Dica: use 'for' aninhado"
      ],
      "metadata": {
        "id": "J-qI8Q8wW6sK"
      }
    },
    {
      "cell_type": "code",
      "source": [
        "#CONTINUE"
      ],
      "metadata": {
        "id": "qFf14mNQXFns"
      },
      "execution_count": null,
      "outputs": []
    },
    {
      "cell_type": "markdown",
      "source": [
        "### Exercício 05\n",
        "\n",
        "Crie um programa que percorre as duas strings dadas e descobre quantos pares de vogais na mesma posição essas duas strings possuem. (Só precisam ser duas vogais na mesma posição, não precisam ser vogais iguais)"
      ],
      "metadata": {
        "id": "rxbHm49JXKK4"
      }
    },
    {
      "cell_type": "code",
      "source": [
        "str1 = 'monitor'\n",
        "str2 = 'quintal'\n",
        "contador = 0\n",
        "\n",
        "# CONTINUE"
      ],
      "metadata": {
        "id": "Vdr-IY7nXJ3L"
      },
      "execution_count": null,
      "outputs": []
    },
    {
      "cell_type": "markdown",
      "source": [
        "### Exercício 06\n",
        "\n",
        "Faça um programa que conta quantas letras 'a' tem em uma palavra lida do usuário\n",
        "\n",
        "Dica: Use palavras sem acento no input"
      ],
      "metadata": {
        "id": "lchcVrJjX0J3"
      }
    },
    {
      "cell_type": "code",
      "source": [
        "palavra = str(input(\"Digite uma palavra: \"))\n",
        "contador = 0\n",
        "\n",
        "# CONTINUE"
      ],
      "metadata": {
        "id": "8f_NFGBJX0ga"
      },
      "execution_count": null,
      "outputs": []
    },
    {
      "cell_type": "markdown",
      "source": [
        "## Exercício 7\n",
        "\n",
        "Escreva um programa que imprima todos os números ímpares de 1 a 100"
      ],
      "metadata": {
        "id": "cL6QLf1acpi7"
      }
    },
    {
      "cell_type": "code",
      "source": [
        "# CONTINUE"
      ],
      "metadata": {
        "id": "bvN_7tBTcqBx"
      },
      "execution_count": null,
      "outputs": []
    },
    {
      "cell_type": "markdown",
      "source": [
        "## Exercício 8\n",
        "Escreva um programa que use for in range para imprimir os quadrados dos números de 1 a 20."
      ],
      "metadata": {
        "id": "rUHkrMrycqVh"
      }
    },
    {
      "cell_type": "code",
      "source": [
        "# CONTINUE"
      ],
      "metadata": {
        "id": "gH87WnSrcrHK"
      },
      "execution_count": null,
      "outputs": []
    },
    {
      "cell_type": "markdown",
      "source": [
        "## Exercício 9\n",
        "Peça ao usuário uma frase e conte quantas vogais (a, e, i, o, u) aparecem nela.\n",
        "\n",
        "Dica: Se você entrar uma frase que possui acentuação, você deverá realizar tratamento desses caracteres dentro do seu 'if', então digite uma frase SEM acentos para que seu código fique mais simples de implementar."
      ],
      "metadata": {
        "id": "hbqYW50Icqzg"
      }
    },
    {
      "cell_type": "code",
      "source": [
        "# CONTINUE"
      ],
      "metadata": {
        "id": "udDPeWYPcqjn"
      },
      "execution_count": null,
      "outputs": []
    },
    {
      "cell_type": "markdown",
      "source": [
        "## Exercício  10\n",
        "\n",
        "Faça um código que lê um número do teclado e printa um quadrado de asteriscos com essas dimensões."
      ],
      "metadata": {
        "id": "o5mxZyZXcr0o"
      }
    },
    {
      "cell_type": "code",
      "source": [
        "numero = int(input(\"Digite um numero: \"))\n",
        "\n",
        "# CONTINUE"
      ],
      "metadata": {
        "colab": {
          "base_uri": "https://localhost:8080/"
        },
        "id": "5Jr1HLMdcsMa",
        "outputId": "e2f1beb1-1865-4fc0-d1d1-5de806a080be"
      },
      "execution_count": 11,
      "outputs": [
        {
          "name": "stdout",
          "output_type": "stream",
          "text": [
            "Digite um numero: 5\n"
          ]
        }
      ]
    },
    {
      "cell_type": "markdown",
      "source": [
        "## Exercício 11\n",
        "Dadas duas strings de mesmo comprimento, crie uma nova string que mescla os caracteres de ambas alternadamente.\n",
        "\n",
        "Exemplo:\n",
        "\n",
        "    str1 = 'aaaaa'\n",
        "    str2 = 'bbbbb'\n",
        "\n",
        "O resultado para esse caso deverá ser:\n",
        "\n",
        "    resultado = 'ababababab'\n",
        "\n",
        "Dica: Lembre-se que podemos realizar operações de soma com caracteres e strings, você deverá utilizar isso para realizar esse exercício."
      ],
      "metadata": {
        "id": "idaDmtLactPi"
      }
    },
    {
      "cell_type": "code",
      "source": [
        "str1 = 'acegi'\n",
        "str2 = 'bdfhj'\n",
        "resultado = ''\n",
        "\n",
        "# CONTINUE"
      ],
      "metadata": {
        "id": "4T7e3tIpctlg"
      },
      "execution_count": null,
      "outputs": []
    },
    {
      "cell_type": "markdown",
      "source": [
        "## Exercício 12\n",
        "\n",
        "Faça um código que percorre duas strings e descobre quantos pares de letras iguais e na mesma posição essas duas strings possuem. Quando um par for encontrado, você deve printar a letra na tela.\n",
        "\n",
        "    str1 = 'batata'\n",
        "    str2 = 'banana'\n",
        "\n",
        "Saída esperada:\n",
        "\n",
        "    b\n",
        "    a\n",
        "    a\n",
        "    a\n",
        "    Número de letras iguais e na mesma posição: 4"
      ],
      "metadata": {
        "id": "lWT9v4qHct0Y"
      }
    },
    {
      "cell_type": "code",
      "source": [
        "str1 = str(input(\"Digite uma palavra: \"))\n",
        "str2 = str(input(\"Digite uma palavra: \"))\n",
        "resultado = 0\n",
        "\n",
        "# CONTINUE\n",
        "\n",
        "print('Número de letras iguais e na mesma posição: ', resultado)"
      ],
      "metadata": {
        "id": "rGHQG9o-cuCT"
      },
      "execution_count": null,
      "outputs": []
    },
    {
      "cell_type": "markdown",
      "source": [
        "## Exercício 13\n",
        "\n",
        "Escreva um programa que peça ao usuário um número e calcule o fatorial desse número utilizando um for\n",
        "\n",
        "Dica: O cálculo do fatorial acontece da seguinte forma:\n",
        "\n",
        "5! = 5 * 4 * 3 * 2 * 1 = 120\n",
        "\n",
        "3! = 3 * 2 * 1 = 6\n",
        "\n",
        "8! = 8 * 7 * 6 * 5 * 4 * 3 * 2 * 1 = 40320"
      ],
      "metadata": {
        "id": "jWy3j0I3cuQO"
      }
    },
    {
      "cell_type": "code",
      "source": [
        "numero = int(input(\"Digite um número: \"))\n",
        "resultado = 1\n",
        "\n",
        "# CONTINUE"
      ],
      "metadata": {
        "id": "GJnOSNwBcud1"
      },
      "execution_count": null,
      "outputs": []
    },
    {
      "cell_type": "markdown",
      "source": [
        "## Exercício 14\n",
        "\n",
        "Escreva um programa que peça para o usuário digitar um número e, em\n",
        "seguida, imprima todos os números pares de 1 até esse número\n",
        "\n",
        "Dica: Se você souber de onde começar a contagem de números pares, você pode utilizar o passo do range que aprendemos no começo da aula.\n",
        "\n",
        "Dica 2: Caso queira percorrer todos os números, lembre do operador % que calcula o resto de uma divisão."
      ],
      "metadata": {
        "id": "C6LQ8gNQcu34"
      }
    },
    {
      "cell_type": "code",
      "source": [
        "numero = int(input(\"Digite um número: \"))\n",
        "\n",
        "# CONTINUE"
      ],
      "metadata": {
        "id": "zuXECq9GcvEN"
      },
      "execution_count": null,
      "outputs": []
    }
  ]
}